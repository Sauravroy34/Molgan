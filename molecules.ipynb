{
 "cells": [
  {
   "cell_type": "code",
   "execution_count": 6,
   "id": "c227f41b",
   "metadata": {},
   "outputs": [],
   "source": [
    "from sparse_molecular_dataset import SparseMolecularDataset\n",
    "\n",
    "data = SparseMolecularDataset()\n"
   ]
  },
  {
   "cell_type": "code",
   "execution_count": 2,
   "id": "279c1cb5",
   "metadata": {},
   "outputs": [],
   "source": [
    "from tools import postprocess,get_reward,sample_z,label2onehot,reward,get_gen_mols,save_mol_img\n"
   ]
  },
  {
   "cell_type": "code",
   "execution_count": 7,
   "id": "dbfac073",
   "metadata": {},
   "outputs": [
    {
     "ename": "AttributeError",
     "evalue": "'SparseMolecularDataset' object has no attribute 'train_counter'",
     "output_type": "error",
     "traceback": [
      "\u001b[0;31m---------------------------------------------------------------------------\u001b[0m",
      "\u001b[0;31mAttributeError\u001b[0m                            Traceback (most recent call last)",
      "Cell \u001b[0;32mIn[7], line 1\u001b[0m\n\u001b[0;32m----> 1\u001b[0m mols, _, _, a, x, _, _, _, _ \u001b[38;5;241m=\u001b[39m \u001b[43mdata\u001b[49m\u001b[38;5;241;43m.\u001b[39;49m\u001b[43mnext_train_batch\u001b[49m\u001b[43m(\u001b[49m\u001b[38;5;241;43m32\u001b[39;49m\u001b[43m)\u001b[49m\n",
      "File \u001b[0;32m~/Desktop/molgan/sparse_molecular_dataset.py:261\u001b[0m, in \u001b[0;36mSparseMolecularDataset.next_train_batch\u001b[0;34m(self, batch_size)\u001b[0m\n\u001b[1;32m    260\u001b[0m \u001b[38;5;28;01mdef\u001b[39;00m\u001b[38;5;250m \u001b[39m\u001b[38;5;21mnext_train_batch\u001b[39m(\u001b[38;5;28mself\u001b[39m, batch_size\u001b[38;5;241m=\u001b[39m\u001b[38;5;28;01mNone\u001b[39;00m):\n\u001b[0;32m--> 261\u001b[0m     out \u001b[38;5;241m=\u001b[39m \u001b[38;5;28mself\u001b[39m\u001b[38;5;241m.\u001b[39m_next_batch(counter\u001b[38;5;241m=\u001b[39m\u001b[38;5;28;43mself\u001b[39;49m\u001b[38;5;241;43m.\u001b[39;49m\u001b[43mtrain_counter\u001b[49m, count\u001b[38;5;241m=\u001b[39m\u001b[38;5;28mself\u001b[39m\u001b[38;5;241m.\u001b[39mtrain_count,\n\u001b[1;32m    262\u001b[0m                            idx\u001b[38;5;241m=\u001b[39m\u001b[38;5;28mself\u001b[39m\u001b[38;5;241m.\u001b[39mtrain_idx, batch_size\u001b[38;5;241m=\u001b[39mbatch_size)\n\u001b[1;32m    263\u001b[0m     \u001b[38;5;28mself\u001b[39m\u001b[38;5;241m.\u001b[39mtrain_counter \u001b[38;5;241m=\u001b[39m out[\u001b[38;5;241m0\u001b[39m]\n\u001b[1;32m    265\u001b[0m     \u001b[38;5;28;01mreturn\u001b[39;00m out[\u001b[38;5;241m1\u001b[39m:]\n",
      "\u001b[0;31mAttributeError\u001b[0m: 'SparseMolecularDataset' object has no attribute 'train_counter'"
     ]
    }
   ],
   "source": [
    "mols, _, _, a, x, _, _, _, _ = data.next_train_batch(32)\n"
   ]
  }
 ],
 "metadata": {
  "kernelspec": {
   "display_name": "Python 3",
   "language": "python",
   "name": "python3"
  },
  "language_info": {
   "codemirror_mode": {
    "name": "ipython",
    "version": 3
   },
   "file_extension": ".py",
   "mimetype": "text/x-python",
   "name": "python",
   "nbconvert_exporter": "python",
   "pygments_lexer": "ipython3",
   "version": "3.12.3"
  }
 },
 "nbformat": 4,
 "nbformat_minor": 5
}
